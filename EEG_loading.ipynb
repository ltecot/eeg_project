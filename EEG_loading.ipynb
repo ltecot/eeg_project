{
 "cells": [
  {
   "cell_type": "code",
   "execution_count": 1,
   "metadata": {},
   "outputs": [],
   "source": [
    "import numpy as np\n",
    "import matplotlib.pyplot as plt\n",
    "import numpy as np\n",
    "import tensorflow as tf\n",
    "from tensorflow.python import keras as kt\n",
    "\n",
    "%matplotlib inline\n",
    "plt.rcParams['figure.figsize'] = (10.0, 8.0) # set default size of plots\n",
    "plt.rcParams['image.interpolation'] = 'nearest'\n",
    "plt.rcParams['image.cmap'] = 'gray'"
   ]
  },
  {
   "cell_type": "code",
   "execution_count": 2,
   "metadata": {},
   "outputs": [],
   "source": [
    "\n",
    "X_test = np.load(\"X_test.npy\")\n",
    "y_test = np.load(\"y_test.npy\")\n",
    "person_train_valid = np.load(\"person_train_valid.npy\")\n",
    "X_train_valid = np.load(\"X_train_valid.npy\")\n",
    "y_train_valid = np.load(\"y_train_valid.npy\")\n",
    "person_test = np.load(\"person_test.npy\")\n"
   ]
  },
  {
   "cell_type": "markdown",
   "metadata": {},
   "source": [
    "### Shape of data"
   ]
  },
  {
   "cell_type": "code",
   "execution_count": 3,
   "metadata": {},
   "outputs": [
    {
     "name": "stdout",
     "output_type": "stream",
     "text": [
      "Training/Valid data shape: (2115, 25, 1000)\n",
      "Test data shape: (443, 25, 1000)\n",
      "Training/Valid target shape: (2115,)\n",
      "Test target shape: (443,)\n",
      "Person train/valid shape: (2115, 1)\n",
      "Person test shape: (443, 1)\n"
     ]
    }
   ],
   "source": [
    "print ('Training/Valid data shape: {}'.format(X_train_valid.shape))\n",
    "print ('Test data shape: {}'.format(X_test.shape))\n",
    "print ('Training/Valid target shape: {}'.format(y_train_valid.shape))\n",
    "print ('Test target shape: {}'.format(y_test.shape))\n",
    "print ('Person train/valid shape: {}'.format(person_train_valid.shape))\n",
    "print ('Person test shape: {}'.format(person_test.shape))\n"
   ]
  },
  {
   "cell_type": "code",
   "execution_count": 13,
   "metadata": {},
   "outputs": [
    {
     "name": "stdout",
     "output_type": "stream",
     "text": [
      "Swapped axes: (2115, 1000, 25) (443, 1000, 25)\n",
      "Removed VOG channels: (2115, 1000, 22) (443, 1000, 22)\n",
      "Raw labels: [771 772 769 769 769 769 771 770 772 772]\n",
      "Fixed: [2 3 0 0 0 0 2 1 3 3]\n",
      "Categorical one-hot encoding:\n",
      " [[0. 0. 1. 0.]\n",
      " [0. 0. 0. 1.]\n",
      " [1. 0. 0. 0.]]\n"
     ]
    }
   ],
   "source": [
    "# prep datasets for RNN\n",
    "\n",
    "# fomat data to (batch_size, timesteps, input_dim)\n",
    "k_X_train = np.swapaxes(X_train_valid, 1, 2)\n",
    "k_X_test = np.swapaxes(X_test, 1, 2)\n",
    "print(\"Swapped axes:\",k_X_train.shape, k_X_test.shape)\n",
    "\n",
    "# remove VOG channels (23-25)\n",
    "k_X_train = k_X_train[: , : , :22 ]\n",
    "k_X_test = k_X_test[: , : , :22 ]\n",
    "print(\"Removed VOG channels:\", k_X_train.shape, k_X_test.shape)\n",
    "\n",
    "# encode output labels\n",
    "print(\"Raw labels:\", y_train_valid[0:10])\n",
    "k_y_train = y_train_valid - 769\n",
    "k_y_test = y_test - 769\n",
    "print(\"Fixed:\", k_y_train[0:10])\n",
    "k_y_train_categ = to_categorical(k_y_train, 4)\n",
    "k_y_test_categ = to_categorical(k_y_test, 4)\n",
    "print(\"Categorical one-hot encoding:\\n\",k_y_train_categ[0:3])"
   ]
  },
  {
   "cell_type": "code",
   "execution_count": 14,
   "metadata": {},
   "outputs": [],
   "source": [
    "# RNN imports\n",
    "\n",
    "import keras\n",
    "from keras.models import Model, Sequential\n",
    "from keras.layers import Input, LSTM, Dense, RNN, SimpleRNN\n",
    "from keras.utils import to_categorical"
   ]
  },
  {
   "cell_type": "code",
   "execution_count": 21,
   "metadata": {
    "scrolled": false
   },
   "outputs": [
    {
     "name": "stdout",
     "output_type": "stream",
     "text": [
      "Epoch 1/100\n",
      "2115/2115 [==============================] - 9s 4ms/step - loss: 1.5185 - acc: 0.2567\n",
      "Epoch 2/100\n",
      "2115/2115 [==============================] - 8s 4ms/step - loss: 1.4008 - acc: 0.3031\n",
      "Epoch 3/100\n",
      "2115/2115 [==============================] - 9s 4ms/step - loss: 1.3561 - acc: 0.3400\n",
      "Epoch 4/100\n",
      "2115/2115 [==============================] - 9s 4ms/step - loss: 1.3301 - acc: 0.3485\n",
      "Epoch 5/100\n",
      "2115/2115 [==============================] - 9s 4ms/step - loss: 1.2974 - acc: 0.3872\n",
      "Epoch 6/100\n",
      "2115/2115 [==============================] - 9s 4ms/step - loss: 1.2772 - acc: 0.4014\n",
      "Epoch 7/100\n",
      "2115/2115 [==============================] - 9s 4ms/step - loss: 1.2561 - acc: 0.4255\n",
      "Epoch 8/100\n",
      "2115/2115 [==============================] - 9s 4ms/step - loss: 1.2376 - acc: 0.4473\n",
      "Epoch 9/100\n",
      "2115/2115 [==============================] - 9s 4ms/step - loss: 1.2275 - acc: 0.4515\n",
      "Epoch 10/100\n",
      "2115/2115 [==============================] - 9s 4ms/step - loss: 1.2101 - acc: 0.4558\n",
      "Epoch 11/100\n",
      "2115/2115 [==============================] - 10s 5ms/step - loss: 1.1859 - acc: 0.4941\n",
      "Epoch 12/100\n",
      "2115/2115 [==============================] - 11s 5ms/step - loss: 1.1765 - acc: 0.4913\n",
      "Epoch 13/100\n",
      "2115/2115 [==============================] - 12s 6ms/step - loss: 1.1540 - acc: 0.5182\n",
      "Epoch 14/100\n",
      "2115/2115 [==============================] - 10s 5ms/step - loss: 1.1343 - acc: 0.5177\n",
      "Epoch 15/100\n",
      "2115/2115 [==============================] - 10s 5ms/step - loss: 1.1259 - acc: 0.5229\n",
      "Epoch 16/100\n",
      "2115/2115 [==============================] - 9s 4ms/step - loss: 1.1093 - acc: 0.5442\n",
      "Epoch 17/100\n",
      "2115/2115 [==============================] - 9s 4ms/step - loss: 1.0872 - acc: 0.5537\n",
      "Epoch 18/100\n",
      "2115/2115 [==============================] - 11s 5ms/step - loss: 1.0677 - acc: 0.5745\n",
      "Epoch 19/100\n",
      "2115/2115 [==============================] - 11s 5ms/step - loss: 1.0601 - acc: 0.5655\n",
      "Epoch 20/100\n",
      "2115/2115 [==============================] - 18s 8ms/step - loss: 1.0345 - acc: 0.5976\n",
      "Epoch 21/100\n",
      "2115/2115 [==============================] - 12s 5ms/step - loss: 1.0303 - acc: 0.5929\n",
      "Epoch 22/100\n",
      "2115/2115 [==============================] - 10s 5ms/step - loss: 1.0079 - acc: 0.6038\n",
      "Epoch 23/100\n",
      "2115/2115 [==============================] - 10s 4ms/step - loss: 0.9985 - acc: 0.6104\n",
      "Epoch 24/100\n",
      "2115/2115 [==============================] - 11s 5ms/step - loss: 0.9799 - acc: 0.6232\n",
      "Epoch 25/100\n",
      "2115/2115 [==============================] - 10s 5ms/step - loss: 0.9638 - acc: 0.6369\n",
      "Epoch 26/100\n",
      "2115/2115 [==============================] - 11s 5ms/step - loss: 0.9454 - acc: 0.6454\n",
      "Epoch 27/100\n",
      "2115/2115 [==============================] - 10s 5ms/step - loss: 0.9281 - acc: 0.6449\n",
      "Epoch 28/100\n",
      "2115/2115 [==============================] - 11s 5ms/step - loss: 0.9039 - acc: 0.6572\n",
      "Epoch 29/100\n",
      "2115/2115 [==============================] - 10s 5ms/step - loss: 0.8953 - acc: 0.6686\n",
      "Epoch 30/100\n",
      "2115/2115 [==============================] - 9s 4ms/step - loss: 0.8816 - acc: 0.6766\n",
      "Epoch 31/100\n",
      "2115/2115 [==============================] - 10s 5ms/step - loss: 0.8660 - acc: 0.6837\n",
      "Epoch 32/100\n",
      "2115/2115 [==============================] - 10s 5ms/step - loss: 0.8515 - acc: 0.6965\n",
      "Epoch 33/100\n",
      "2115/2115 [==============================] - 10s 5ms/step - loss: 0.8428 - acc: 0.6898\n",
      "Epoch 34/100\n",
      "2115/2115 [==============================] - 11s 5ms/step - loss: 0.8190 - acc: 0.7069\n",
      "Epoch 35/100\n",
      "2115/2115 [==============================] - 10s 5ms/step - loss: 0.8089 - acc: 0.7087\n",
      "Epoch 36/100\n",
      "2115/2115 [==============================] - 10s 5ms/step - loss: 0.7871 - acc: 0.7191\n",
      "Epoch 37/100\n",
      "2115/2115 [==============================] - 10s 5ms/step - loss: 0.7761 - acc: 0.7154\n",
      "Epoch 38/100\n",
      "2115/2115 [==============================] - 9s 4ms/step - loss: 0.7821 - acc: 0.7201\n",
      "Epoch 39/100\n",
      "2115/2115 [==============================] - 11s 5ms/step - loss: 0.7580 - acc: 0.7324\n",
      "Epoch 40/100\n",
      "2115/2115 [==============================] - 9s 4ms/step - loss: 0.7368 - acc: 0.7400\n",
      "Epoch 41/100\n",
      "2115/2115 [==============================] - 9s 4ms/step - loss: 0.7249 - acc: 0.7508\n",
      "Epoch 42/100\n",
      "2115/2115 [==============================] - 9s 4ms/step - loss: 0.7284 - acc: 0.7447\n",
      "Epoch 43/100\n",
      "2115/2115 [==============================] - 9s 4ms/step - loss: 0.7161 - acc: 0.7494\n",
      "Epoch 44/100\n",
      "2115/2115 [==============================] - 9s 4ms/step - loss: 0.6882 - acc: 0.7636\n",
      "Epoch 45/100\n",
      "2115/2115 [==============================] - 10s 5ms/step - loss: 0.6720 - acc: 0.7693\n",
      "Epoch 46/100\n",
      "2115/2115 [==============================] - 10s 5ms/step - loss: 0.6703 - acc: 0.7754\n",
      "Epoch 47/100\n",
      "2115/2115 [==============================] - 10s 5ms/step - loss: 0.6519 - acc: 0.7764\n",
      "Epoch 48/100\n",
      "2115/2115 [==============================] - 11s 5ms/step - loss: 0.6459 - acc: 0.7778\n",
      "Epoch 49/100\n",
      "2115/2115 [==============================] - 10s 5ms/step - loss: 0.6349 - acc: 0.7877\n",
      "Epoch 50/100\n",
      "2115/2115 [==============================] - 10s 5ms/step - loss: 0.6220 - acc: 0.7962\n",
      "Epoch 51/100\n",
      "2115/2115 [==============================] - 10s 5ms/step - loss: 0.6057 - acc: 0.7957\n",
      "Epoch 52/100\n",
      "2115/2115 [==============================] - 10s 5ms/step - loss: 0.6058 - acc: 0.7995\n",
      "Epoch 53/100\n",
      "2115/2115 [==============================] - 10s 5ms/step - loss: 0.5878 - acc: 0.8019\n",
      "Epoch 54/100\n",
      "2115/2115 [==============================] - 10s 5ms/step - loss: 0.5766 - acc: 0.8024\n",
      "Epoch 55/100\n",
      "2115/2115 [==============================] - 10s 5ms/step - loss: 0.6277 - acc: 0.7721\n",
      "Epoch 56/100\n",
      "2115/2115 [==============================] - 9s 4ms/step - loss: 0.5640 - acc: 0.8095\n",
      "Epoch 57/100\n",
      "2115/2115 [==============================] - 9s 4ms/step - loss: 0.5482 - acc: 0.8161\n",
      "Epoch 58/100\n",
      "2115/2115 [==============================] - 9s 4ms/step - loss: 0.5339 - acc: 0.8217\n",
      "Epoch 59/100\n",
      "2115/2115 [==============================] - 9s 4ms/step - loss: 0.5368 - acc: 0.8194\n",
      "Epoch 60/100\n",
      "2115/2115 [==============================] - 11s 5ms/step - loss: 0.5299 - acc: 0.8307\n",
      "Epoch 61/100\n",
      "2115/2115 [==============================] - 11s 5ms/step - loss: 0.5168 - acc: 0.8288\n",
      "Epoch 62/100\n",
      "2115/2115 [==============================] - 10s 5ms/step - loss: 0.5286 - acc: 0.8213\n",
      "Epoch 63/100\n",
      "2115/2115 [==============================] - 10s 5ms/step - loss: 0.5155 - acc: 0.8194\n",
      "Epoch 64/100\n",
      "2115/2115 [==============================] - 10s 5ms/step - loss: 0.5073 - acc: 0.8255\n",
      "Epoch 65/100\n",
      "2115/2115 [==============================] - 12s 6ms/step - loss: 0.5018 - acc: 0.8288\n",
      "Epoch 66/100\n",
      "2115/2115 [==============================] - 10s 5ms/step - loss: 0.4737 - acc: 0.8454\n",
      "Epoch 67/100\n",
      "2115/2115 [==============================] - 9s 4ms/step - loss: 0.4754 - acc: 0.8501\n",
      "Epoch 68/100\n",
      "2115/2115 [==============================] - 10s 5ms/step - loss: 0.4650 - acc: 0.8449\n",
      "Epoch 69/100\n",
      "2115/2115 [==============================] - 10s 5ms/step - loss: 0.4574 - acc: 0.8511\n",
      "Epoch 70/100\n",
      "2115/2115 [==============================] - 11s 5ms/step - loss: 0.4807 - acc: 0.8331\n",
      "Epoch 71/100\n",
      "2115/2115 [==============================] - 11s 5ms/step - loss: 0.4374 - acc: 0.8619\n",
      "Epoch 72/100\n",
      "2115/2115 [==============================] - 11s 5ms/step - loss: 0.4503 - acc: 0.8520\n",
      "Epoch 73/100\n",
      "2115/2115 [==============================] - 10s 5ms/step - loss: 0.4454 - acc: 0.8511\n",
      "Epoch 74/100\n",
      "2115/2115 [==============================] - 10s 5ms/step - loss: 0.4240 - acc: 0.8652\n",
      "Epoch 75/100\n",
      "2115/2115 [==============================] - 10s 5ms/step - loss: 0.4115 - acc: 0.8610\n",
      "Epoch 76/100\n",
      "2115/2115 [==============================] - 12s 6ms/step - loss: 0.4105 - acc: 0.8719\n",
      "Epoch 77/100\n",
      "2115/2115 [==============================] - 11s 5ms/step - loss: 0.4118 - acc: 0.8681\n",
      "Epoch 78/100\n",
      "2115/2115 [==============================] - 11s 5ms/step - loss: 0.3963 - acc: 0.8714\n",
      "Epoch 79/100\n",
      "2115/2115 [==============================] - 11s 5ms/step - loss: 0.3969 - acc: 0.8719\n",
      "Epoch 80/100\n",
      "2115/2115 [==============================] - 10s 5ms/step - loss: 0.3894 - acc: 0.8790\n",
      "Epoch 81/100\n",
      "2115/2115 [==============================] - 9s 4ms/step - loss: 0.3728 - acc: 0.8879\n",
      "Epoch 82/100\n",
      "2115/2115 [==============================] - 11s 5ms/step - loss: 0.3715 - acc: 0.8837\n",
      "Epoch 83/100\n"
     ]
    },
    {
     "name": "stdout",
     "output_type": "stream",
     "text": [
      "2115/2115 [==============================] - 12s 6ms/step - loss: 0.3786 - acc: 0.8747\n",
      "Epoch 84/100\n",
      "2115/2115 [==============================] - 10s 5ms/step - loss: 0.3554 - acc: 0.8946\n",
      "Epoch 85/100\n",
      "2115/2115 [==============================] - 10s 5ms/step - loss: 0.3502 - acc: 0.8875\n",
      "Epoch 86/100\n",
      "2115/2115 [==============================] - 11s 5ms/step - loss: 0.3514 - acc: 0.8922\n",
      "Epoch 87/100\n",
      "2115/2115 [==============================] - 12s 6ms/step - loss: 0.3864 - acc: 0.8747\n",
      "Epoch 88/100\n",
      "2115/2115 [==============================] - 11s 5ms/step - loss: 0.3510 - acc: 0.8917\n",
      "Epoch 89/100\n",
      "2115/2115 [==============================] - 10s 5ms/step - loss: 0.3327 - acc: 0.9012\n",
      "Epoch 90/100\n",
      "2115/2115 [==============================] - 10s 5ms/step - loss: 0.3242 - acc: 0.9026\n",
      "Epoch 91/100\n",
      "2115/2115 [==============================] - 9s 4ms/step - loss: 0.3331 - acc: 0.8960\n",
      "Epoch 92/100\n",
      "2115/2115 [==============================] - 11s 5ms/step - loss: 0.3319 - acc: 0.8955\n",
      "Epoch 93/100\n",
      "2115/2115 [==============================] - 12s 6ms/step - loss: 0.3038 - acc: 0.9116\n",
      "Epoch 94/100\n",
      "2115/2115 [==============================] - 10s 5ms/step - loss: 0.3049 - acc: 0.9121\n",
      "Epoch 95/100\n",
      "2115/2115 [==============================] - 10s 5ms/step - loss: 0.3042 - acc: 0.9144\n",
      "Epoch 96/100\n",
      "2115/2115 [==============================] - 10s 5ms/step - loss: 0.2962 - acc: 0.9083\n",
      "Epoch 97/100\n",
      "2115/2115 [==============================] - 11s 5ms/step - loss: 0.3062 - acc: 0.9017\n",
      "Epoch 98/100\n",
      "2115/2115 [==============================] - 10s 5ms/step - loss: 0.2902 - acc: 0.9135\n",
      "Epoch 99/100\n",
      "2115/2115 [==============================] - 9s 4ms/step - loss: 0.2832 - acc: 0.9139\n",
      "Epoch 100/100\n",
      "2115/2115 [==============================] - 9s 4ms/step - loss: 0.3174 - acc: 0.8965\n"
     ]
    },
    {
     "data": {
      "text/plain": [
       "<keras.callbacks.History at 0x7f292ebcb438>"
      ]
     },
     "execution_count": 21,
     "metadata": {},
     "output_type": "execute_result"
    }
   ],
   "source": [
    "# RNN model parameters\n",
    "k_hidden_size = 100\n",
    "k_input_shape = k_X_train.shape[1:]\n",
    "\n",
    "# RNN model\n",
    "model = Sequential()\n",
    "model.add(SimpleRNN(k_hidden_size, input_shape=k_input_shape))\n",
    "model.add(Dense(4, activation='softmax'))\n",
    "\n",
    "model.compile(loss = 'categorical_crossentropy', \n",
    "              optimizer='adam', \n",
    "              metrics=['accuracy'],\n",
    "             )\n",
    "\n",
    "\n",
    "model.fit(k_X_train, k_y_train_categ, epochs=100)"
   ]
  },
  {
   "cell_type": "code",
   "execution_count": 22,
   "metadata": {},
   "outputs": [
    {
     "name": "stdout",
     "output_type": "stream",
     "text": [
      "443/443 [==============================] - 1s 2ms/step\n"
     ]
    },
    {
     "data": {
      "text/plain": [
       "[2.503969310906886, 0.27088036043380237]"
      ]
     },
     "execution_count": 22,
     "metadata": {},
     "output_type": "execute_result"
    }
   ],
   "source": [
    "\n",
    "# evaluate\n",
    "\n",
    "model.evaluate(k_X_test, k_y_test_categ, verbose=1)"
   ]
  },
  {
   "cell_type": "markdown",
   "metadata": {},
   "source": [
    "# That is disappointing"
   ]
  },
  {
   "cell_type": "code",
   "execution_count": null,
   "metadata": {},
   "outputs": [],
   "source": []
  }
 ],
 "metadata": {
  "kernelspec": {
   "display_name": "Python 3",
   "language": "python",
   "name": "python3"
  },
  "language_info": {
   "codemirror_mode": {
    "name": "ipython",
    "version": 3
   },
   "file_extension": ".py",
   "mimetype": "text/x-python",
   "name": "python",
   "nbconvert_exporter": "python",
   "pygments_lexer": "ipython3",
   "version": "3.6.7"
  }
 },
 "nbformat": 4,
 "nbformat_minor": 2
}
