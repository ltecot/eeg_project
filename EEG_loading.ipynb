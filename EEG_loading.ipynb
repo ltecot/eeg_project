{
 "cells": [
  {
   "cell_type": "code",
   "execution_count": 1,
   "metadata": {},
   "outputs": [],
   "source": [
    "import numpy as np\n",
    "import matplotlib.pyplot as plt\n",
    "import numpy as np\n",
    "import tensorflow as tf\n",
    "from tensorflow.python import keras as kt\n",
    "\n",
    "%matplotlib inline\n",
    "plt.rcParams['figure.figsize'] = (10.0, 8.0) # set default size of plots\n",
    "plt.rcParams['image.interpolation'] = 'nearest'\n",
    "plt.rcParams['image.cmap'] = 'gray'"
   ]
  },
  {
   "cell_type": "code",
   "execution_count": 57,
   "metadata": {},
   "outputs": [
    {
     "name": "stdout",
     "output_type": "stream",
     "text": [
      "(443, 1000, 25)\n",
      "(443, 1000, 22)\n"
     ]
    }
   ],
   "source": [
    "\n",
    "X_test = np.load(\"X_test.npy\")\n",
    "y_test = np.load(\"y_test.npy\")\n",
    "person_train_valid = np.load(\"person_train_valid.npy\")\n",
    "X_train_valid = np.load(\"X_train_valid.npy\")\n",
    "y_train_valid = np.load(\"y_train_valid.npy\")\n",
    "person_test = np.load(\"person_test.npy\")\n",
    "\n",
    "\n",
    "X_test = np.swapaxes(X_test, 1, 2)\n",
    "print(X_test.shape)\n",
    "X_test = X_test[: , : , :22 ]\n",
    "\n",
    "print(X_test.shape)"
   ]
  },
  {
   "cell_type": "markdown",
   "metadata": {},
   "source": [
    "### Shape of data"
   ]
  },
  {
   "cell_type": "code",
   "execution_count": 58,
   "metadata": {},
   "outputs": [
    {
     "name": "stdout",
     "output_type": "stream",
     "text": [
      "Training/Valid data shape: (2115, 25, 1000)\n",
      "Test data shape: (443, 1000, 22)\n",
      "Training/Valid target shape: (2115,)\n",
      "Test target shape: (443,)\n",
      "Person train/valid shape: (2115, 1)\n",
      "Person test shape: (443, 1)\n"
     ]
    }
   ],
   "source": [
    "print ('Training/Valid data shape: {}'.format(X_train_valid.shape))\n",
    "print ('Test data shape: {}'.format(X_test.shape))\n",
    "print ('Training/Valid target shape: {}'.format(y_train_valid.shape))\n",
    "print ('Test target shape: {}'.format(y_test.shape))\n",
    "print ('Person train/valid shape: {}'.format(person_train_valid.shape))\n",
    "print ('Person test shape: {}'.format(person_test.shape))\n"
   ]
  },
  {
   "cell_type": "code",
   "execution_count": 59,
   "metadata": {},
   "outputs": [],
   "source": [
    "import keras\n",
    "from keras.models import Model, Sequential\n",
    "from keras.layers import Input, LSTM, Dense, RNN, SimpleRNN\n",
    "from keras.utils import to_categorical\n",
    "y_binary = to_categorical(y_test-769)\n",
    "hidden_size = 100"
   ]
  },
  {
   "cell_type": "code",
   "execution_count": 62,
   "metadata": {
    "scrolled": false
   },
   "outputs": [
    {
     "name": "stdout",
     "output_type": "stream",
     "text": [
      "Epoch 1/10\n",
      "443/443 [==============================] - 4s 9ms/step - loss: 1.6943 - acc: 0.2506\n",
      "Epoch 2/10\n",
      "443/443 [==============================] - 3s 6ms/step - loss: 1.4053 - acc: 0.3363\n",
      "Epoch 3/10\n",
      "443/443 [==============================] - 3s 6ms/step - loss: 1.3188 - acc: 0.3860\n",
      "Epoch 4/10\n",
      "443/443 [==============================] - 3s 6ms/step - loss: 1.2459 - acc: 0.4176\n",
      "Epoch 5/10\n",
      "443/443 [==============================] - 3s 6ms/step - loss: 1.1977 - acc: 0.4831\n",
      "Epoch 6/10\n",
      "443/443 [==============================] - 3s 6ms/step - loss: 1.1579 - acc: 0.5237\n",
      "Epoch 7/10\n",
      "443/443 [==============================] - 3s 6ms/step - loss: 1.1217 - acc: 0.5418\n",
      "Epoch 8/10\n",
      "443/443 [==============================] - 3s 6ms/step - loss: 1.0862 - acc: 0.5598\n",
      "Epoch 9/10\n",
      "443/443 [==============================] - 3s 6ms/step - loss: 1.0601 - acc: 0.6027\n",
      "Epoch 10/10\n",
      "443/443 [==============================] - 3s 6ms/step - loss: 1.0299 - acc: 0.6230\n"
     ]
    },
    {
     "data": {
      "text/plain": [
       "<keras.callbacks.History at 0x7fe44bc96550>"
      ]
     },
     "execution_count": 62,
     "metadata": {},
     "output_type": "execute_result"
    }
   ],
   "source": [
    "\n",
    "model = Sequential()\n",
    "model.add(SimpleRNN(hidden_size, input_shape=(1000, 22)))\n",
    "model.add(Dense(4, activation='softmax'))\n",
    "\n",
    "model.compile(loss = 'categorical_crossentropy', \n",
    "              optimizer='adam', \n",
    "              metrics=['accuracy'],\n",
    "             )\n",
    "\n",
    "\n",
    "model.fit(X_test, y_binary, epochs=10)"
   ]
  },
  {
   "cell_type": "code",
   "execution_count": null,
   "metadata": {},
   "outputs": [],
   "source": []
  }
 ],
 "metadata": {
  "kernelspec": {
   "display_name": "Python 3",
   "language": "python",
   "name": "python3"
  },
  "language_info": {
   "codemirror_mode": {
    "name": "ipython",
    "version": 3
   },
   "file_extension": ".py",
   "mimetype": "text/x-python",
   "name": "python",
   "nbconvert_exporter": "python",
   "pygments_lexer": "ipython3",
   "version": "3.6.8"
  }
 },
 "nbformat": 4,
 "nbformat_minor": 2
}
