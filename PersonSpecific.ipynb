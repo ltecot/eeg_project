{
 "cells": [
  {
   "cell_type": "code",
   "execution_count": 1,
   "metadata": {},
   "outputs": [
    {
     "name": "stdout",
     "output_type": "stream",
     "text": [
      "Training/Valid data shape: (2115, 25, 1000)\n",
      "Test data shape: (443, 25, 1000)\n",
      "Training/Valid target shape: (2115,)\n",
      "Test target shape: (443,)\n",
      "Person train/valid shape: (2115, 1)\n",
      "Person test shape: (443, 1)\n"
     ]
    },
    {
     "name": "stderr",
     "output_type": "stream",
     "text": [
      "Using TensorFlow backend.\n"
     ]
    }
   ],
   "source": [
    "import numpy as np\n",
    "import matplotlib.pyplot as plt\n",
    "import numpy as np\n",
    "import tensorflow as tf\n",
    "from tensorflow.python import keras as kt\n",
    "# RNN imports\n",
    "import keras\n",
    "from keras.models import Model, Sequential\n",
    "from keras.layers import Input, LSTM, Dense, RNN, SimpleRNN, GRU\n",
    "from keras.utils import to_categorical\n",
    "\n",
    "\n",
    "%matplotlib inline\n",
    "plt.rcParams['figure.figsize'] = (10.0, 8.0) # set default size of plots\n",
    "plt.rcParams['image.interpolation'] = 'nearest'\n",
    "plt.rcParams['image.cmap'] = 'gray'\n",
    "\n",
    "X_test = np.load(\"X_test.npy\")\n",
    "y_test = np.load(\"y_test.npy\")\n",
    "person_train_valid = np.load(\"person_train_valid.npy\")\n",
    "X_train_valid = np.load(\"X_train_valid.npy\")\n",
    "y_train_valid = np.load(\"y_train_valid.npy\")\n",
    "person_test = np.load(\"person_test.npy\")\n",
    "\n",
    "print ('Training/Valid data shape: {}'.format(X_train_valid.shape))\n",
    "print ('Test data shape: {}'.format(X_test.shape))\n",
    "print ('Training/Valid target shape: {}'.format(y_train_valid.shape))\n",
    "print ('Test target shape: {}'.format(y_test.shape))\n",
    "print ('Person train/valid shape: {}'.format(person_train_valid.shape))\n",
    "print ('Person test shape: {}'.format(person_test.shape))"
   ]
  },
  {
   "cell_type": "code",
   "execution_count": 2,
   "metadata": {},
   "outputs": [
    {
     "name": "stdout",
     "output_type": "stream",
     "text": [
      "(237, 25, 1000)\n",
      "(237,)\n",
      "(50, 25, 1000)\n",
      "(50,)\n"
     ]
    }
   ],
   "source": [
    "# Separate data by subject\n",
    "\n",
    "# samples from subject 0\n",
    "idx_p0_train = np.where(person_train_valid == 0)[0]\n",
    "idx_p0_test = np.where(person_test == 0)[0]\n",
    "\n",
    "p0_train_X = X_train_valid[idx_p0_train] \n",
    "p0_train_y = y_train_valid[idx_p0_train]\n",
    "\n",
    "p0_test_X = X_test[idx_p0_test]\n",
    "p0_test_y = y_test[idx_p0_test]\n",
    "\n",
    "print(p0_train_X.shape)\n",
    "print(p0_train_y.shape)\n",
    "print(p0_test_X.shape)\n",
    "print(p0_test_y.shape)\n",
    "\n"
   ]
  },
  {
   "cell_type": "code",
   "execution_count": 43,
   "metadata": {},
   "outputs": [
    {
     "name": "stdout",
     "output_type": "stream",
     "text": [
      "Original Data: (190, 25, 1000) (190,)\n",
      "Cropped Data: (133190, 25, 300) (133190,)\n",
      "Original Data: (47, 25, 1000) (47,)\n",
      "Cropped Data: (32947, 25, 300) (32947,)\n"
     ]
    }
   ],
   "source": [
    "################################\n",
    "# Sliding window subsampling\n",
    "\n",
    "# data size (1000, 25)\n",
    "# sample size (100, 25)\n",
    "# for loop over each trial\n",
    "# for loop over each valid index\n",
    "# append the cut out section to the new dataset\n",
    "# append the cut out section's label tothe new dataset labels\n",
    "\n",
    "test_array_x = np.array([[[1,2,3,4,5,6,7,8,9,10]],\n",
    "                       [[-1,-2,-3,-4,-5,-6,-7,-8,-9,-10]],\n",
    "                       [[1,2,3,4,5,6,7,8,9,10]]])\n",
    "\n",
    "\n",
    "test_array_y = np.array([700,701,702])\n",
    "\n",
    "def crop_data_aug(X, y, crop):\n",
    "    crop_size = crop # 3 # 100\n",
    "    original_train_X = X  # test_array_x # p0_train_X\n",
    "    original_train_y = y # test_array_y # p0_train_y\n",
    "\n",
    "    N, C, T = original_train_X.shape\n",
    "    print(\"Original Data:\", original_train_X.shape, original_train_y.shape)\n",
    "    #print(\"X\", original_train_X[300:305], \"Y\", original_train_y[300:305])\n",
    "    cropped_train_X = np.zeros((N*(T-crop_size+1), C, crop_size))\n",
    "    cropped_train_y = np.zeros(N*(T-crop_size+1))\n",
    "    crops_per_sample = T-crop_size+1\n",
    "\n",
    "\n",
    "    for n in np.arange(N):\n",
    "        crop_count = 0\n",
    "        for t in np.arange(T-crop_size+1):\n",
    "            idx = n*crops_per_sample + crop_count\n",
    "            cropped_train_X[idx] = original_train_X[n, :, t:t+crop_size]\n",
    "            cropped_train_y[idx] = original_train_y[n]\n",
    "            crop_count = crop_count + 1\n",
    "            \n",
    "    print(\"Cropped Data:\", cropped_train_X.shape, cropped_train_y.shape)\n",
    "    \n",
    "    return cropped_train_X, cropped_train_y\n",
    "\n",
    "# separate the train and val test sets before actually cropping \n",
    "idx_val = np.arange(p0_train_X.shape[0])\n",
    "np.random.shuffle(idx_val)\n",
    "val_fraction = int(0.2*idx_val.shape[0])\n",
    "\n",
    "# separated train and test splits\n",
    "data_val_X = p0_train_X[0:val_fraction]\n",
    "data_val_y = p0_train_y[0:val_fraction]\n",
    "data_train_X = p0_train_X[val_fraction:]\n",
    "data_train_y = p0_train_y[val_fraction:]\n",
    "\n",
    "# augment using cropping\n",
    "cropped_train_X, cropped_train_y = crop_data_aug(data_train_X, data_train_y, 300)\n",
    "cropped_val_X, cropped_val_y = crop_data_aug(data_val_X, data_val_y, 300)\n"
   ]
  },
  {
   "cell_type": "code",
   "execution_count": 44,
   "metadata": {},
   "outputs": [
    {
     "name": "stdout",
     "output_type": "stream",
     "text": [
      "Swapped axes: (133190, 300, 25) (50, 1000, 25)\n",
      "Removed VOG channels: (133190, 300, 22) (50, 1000, 22)\n",
      "Raw labels: [771. 771. 771. 771. 771. 771. 771. 771. 771. 771.]\n",
      "Fixed: [2. 2. 2. 2. 2. 2. 2. 2. 2. 2.]\n",
      "Categorical one-hot encoding:\n",
      " [[0. 0. 1. 0.]\n",
      " [0. 0. 1. 0.]\n",
      " [0. 0. 1. 0.]]\n"
     ]
    }
   ],
   "source": [
    "################################\n",
    "# rearrange data for Keras modules\n",
    "\n",
    "##!!!!!! Now train and test data dimensions do not match\n",
    "\n",
    "# fomat data to (batch_size, timesteps, input_dim)\n",
    "k_X_train = np.swapaxes(cropped_train_X, 1, 2)\n",
    "k_X_val = np.swapaxes(cropped_val_X, 1, 2)\n",
    "k_X_test = np.swapaxes(p0_test_X, 1, 2)\n",
    "print(\"Swapped axes:\",k_X_train.shape, k_X_test.shape)\n",
    "# remove VOG channels (23-25)\n",
    "k_X_train = k_X_train[: , : , :22 ]\n",
    "k_X_val = k_X_val[:, :, :22]\n",
    "k_X_test = k_X_test[: , : , :22 ]\n",
    "print(\"Removed VOG channels:\", k_X_train.shape, k_X_test.shape)\n",
    "\n",
    "# encode output labels\n",
    "print(\"Raw labels:\", cropped_train_y[0:10])\n",
    "k_y_train = cropped_train_y - 769\n",
    "k_y_val = cropped_val_y - 769\n",
    "k_y_test = p0_test_y - 769\n",
    "print(\"Fixed:\", k_y_train[0:10])\n",
    "k_y_train_categ = to_categorical(k_y_train, 4)\n",
    "k_y_val_categ = to_categorical(k_y_val, 4)\n",
    "k_y_test_categ = to_categorical(k_y_test, 4)\n",
    "print(\"Categorical one-hot encoding:\\n\",k_y_train_categ[0:3])"
   ]
  },
  {
   "cell_type": "code",
   "execution_count": 45,
   "metadata": {
    "scrolled": false
   },
   "outputs": [
    {
     "name": "stdout",
     "output_type": "stream",
     "text": [
      "_________________________________________________________________\n",
      "Layer (type)                 Output Shape              Param #   \n",
      "=================================================================\n",
      "conv1d_23 (Conv1D)           (None, 291, 22)           4862      \n",
      "_________________________________________________________________\n",
      "batch_normalization_36 (Batc (None, 291, 22)           88        \n",
      "_________________________________________________________________\n",
      "conv1d_24 (Conv1D)           (None, 282, 22)           4862      \n",
      "_________________________________________________________________\n",
      "batch_normalization_37 (Batc (None, 282, 22)           88        \n",
      "_________________________________________________________________\n",
      "cu_dnngru_9 (CuDNNGRU)       (None, 128)               58368     \n",
      "_________________________________________________________________\n",
      "batch_normalization_38 (Batc (None, 128)               512       \n",
      "_________________________________________________________________\n",
      "dense_23 (Dense)             (None, 4)                 516       \n",
      "=================================================================\n",
      "Total params: 69,296\n",
      "Trainable params: 68,952\n",
      "Non-trainable params: 344\n",
      "_________________________________________________________________\n",
      "None\n",
      "Train on 133190 samples, validate on 32947 samples\n",
      "Epoch 1/5\n",
      "133190/133190 [==============================] - 33s 246us/step - loss: 1.1372 - acc: 0.4536 - val_loss: 1.6378 - val_acc: 0.3789\n",
      "Epoch 2/5\n",
      "133190/133190 [==============================] - 28s 211us/step - loss: 0.5710 - acc: 0.7572 - val_loss: 1.2676 - val_acc: 0.5164\n",
      "Epoch 3/5\n",
      "133190/133190 [==============================] - 27s 200us/step - loss: 0.1897 - acc: 0.9337 - val_loss: 2.7405 - val_acc: 0.3467\n",
      "Epoch 4/5\n",
      "133190/133190 [==============================] - 27s 202us/step - loss: 0.0782 - acc: 0.9764 - val_loss: 2.1865 - val_acc: 0.5244\n",
      "Epoch 5/5\n",
      "133190/133190 [==============================] - 27s 199us/step - loss: 0.0490 - acc: 0.9862 - val_loss: 2.2152 - val_acc: 0.5438\n"
     ]
    },
    {
     "data": {
      "image/png": "[encoded data removed]",
      "text/plain": [
       "<Figure size 432x288 with 1 Axes>"
      ]
     },
     "metadata": {
      "needs_background": "light"
     },
     "output_type": "display_data"
    },
    {
     "data": {
      "image/png": "[encoded data removed]",
      "text/plain": [
       "<Figure size 432x288 with 1 Axes>"
      ]
     },
     "metadata": {
      "needs_background": "light"
     },
     "output_type": "display_data"
    }
   ],
   "source": [
    "#################### RNN paramters\n",
    "hids = 100\n",
    "actv = 'tanh'\n",
    "dcy = 0.005\n",
    "reg = 0.1\n",
    "lrt = 0.00005\n",
    "\n",
    "#1 Plain\n",
    "\n",
    "#################### RNN training\n",
    "from keras.layers import Dropout\n",
    "input_dim = k_X_train.shape[1:]\n",
    "gru_units_sub = 128\n",
    "\n",
    "model = Sequential()\n",
    "model.add(keras.layers.Conv1D(22, 10, input_shape=input_dim))\n",
    "model.add(keras.layers.BatchNormalization())\n",
    "model.add(keras.layers.Conv1D(22, 10))\n",
    "model.add(keras.layers.BatchNormalization())\n",
    "#model.add(keras.layers.CuDNNLSTM(64, input_shape=input_dim, return_sequences=True))\n",
    "#model.add(Dropout(0.5))\n",
    "model.add(keras.layers.CuDNNGRU(gru_units_sub, input_shape=input_dim))\n",
    "model.add(keras.layers.BatchNormalization())\n",
    "model.add(Dense(4, activation=\"softmax\"))\n",
    "model.compile(loss=\"categorical_crossentropy\",\n",
    "              optimizer=\"rmsprop\",\n",
    "              metrics=[\"accuracy\"])\n",
    "\n",
    "print(model.summary())\n",
    "\n",
    "history = model.fit(k_X_train, k_y_train_categ, \n",
    "                    validation_data=(k_X_val, k_y_val_categ),\n",
    "                    epochs=5, verbose=1, batch_size=256)\n",
    "\n",
    "\n",
    "\n",
    "#################### RNN loss and accuracy plotting\n",
    "# Plot training & validation accuracy values\n",
    "plt.plot(history.history['acc'])\n",
    "plt.plot(history.history['val_acc'])\n",
    "plt.title('Model accuracy')\n",
    "plt.ylabel('Accuracy')\n",
    "plt.xlabel('Epoch')\n",
    "plt.legend(['Train', 'Test'], loc='upper left')\n",
    "plt.show()\n",
    "# Plot training & validation loss values\n",
    "plt.plot(history.history['loss'])\n",
    "plt.plot(history.history['val_loss'])\n",
    "plt.title('Model loss')\n",
    "plt.ylabel('Loss')\n",
    "plt.xlabel('Epoch')\n",
    "plt.legend(['Train', 'Test'], loc='upper left')\n",
    "plt.show()"
   ]
  },
  {
   "cell_type": "code",
   "execution_count": 46,
   "metadata": {},
   "outputs": [],
   "source": [
    "model.save(\"Conv-BN-Conv-BN-GRU1-128units-BN-subsampling300-valacc54.h5\")"
   ]
  },
  {
   "cell_type": "code",
   "execution_count": 49,
   "metadata": {
    "scrolled": false
   },
   "outputs": [
    {
     "name": "stdout",
     "output_type": "stream",
     "text": [
      "_________________________________________________________________\n",
      "Layer (type)                 Output Shape              Param #   \n",
      "=================================================================\n",
      "conv1d_29 (Conv1D)           (None, 291, 20)           4420      \n",
      "_________________________________________________________________\n",
      "batch_normalization_45 (Batc (None, 291, 20)           80        \n",
      "_________________________________________________________________\n",
      "conv1d_30 (Conv1D)           (None, 282, 20)           4020      \n",
      "_________________________________________________________________\n",
      "batch_normalization_46 (Batc (None, 282, 20)           80        \n",
      "_________________________________________________________________\n",
      "cu_dnngru_12 (CuDNNGRU)      (None, 128)               57600     \n",
      "_________________________________________________________________\n",
      "batch_normalization_47 (Batc (None, 128)               512       \n",
      "_________________________________________________________________\n",
      "dense_26 (Dense)             (None, 4)                 516       \n",
      "=================================================================\n",
      "Total params: 67,228\n",
      "Trainable params: 66,892\n",
      "Non-trainable params: 336\n",
      "_________________________________________________________________\n",
      "None\n",
      "Train on 133190 samples, validate on 32947 samples\n",
      "Epoch 1/5\n",
      "133190/133190 [==============================] - 30s 224us/step - loss: 1.8486 - acc: 0.3808 - val_loss: 1.5614 - val_acc: 0.3771\n",
      "Epoch 2/5\n",
      "133190/133190 [==============================] - 26s 197us/step - loss: 1.0099 - acc: 0.5970 - val_loss: 2.2082 - val_acc: 0.4190\n",
      "Epoch 3/5\n",
      "133190/133190 [==============================] - 26s 197us/step - loss: 0.8448 - acc: 0.6886 - val_loss: 2.2059 - val_acc: 0.3953\n",
      "Epoch 4/5\n",
      "133190/133190 [==============================] - 26s 197us/step - loss: 0.7551 - acc: 0.7408 - val_loss: 8.1799 - val_acc: 0.2128\n",
      "Epoch 5/5\n",
      "133190/133190 [==============================] - 26s 197us/step - loss: 0.6630 - acc: 0.7923 - val_loss: 2.2050 - val_acc: 0.5312\n"
     ]
    },
    {
     "data": {
      "image/png": "[encoded data removed]",
      "text/plain": [
       "<Figure size 432x288 with 1 Axes>"
      ]
     },
     "metadata": {
      "needs_background": "light"
     },
     "output_type": "display_data"
    },
    {
     "data": {
      "image/png": "[encoded data removed]",
      "text/plain": [
       "<Figure size 432x288 with 1 Axes>"
      ]
     },
     "metadata": {
      "needs_background": "light"
     },
     "output_type": "display_data"
    }
   ],
   "source": [
    "\n",
    "#2 Regularization\n",
    "\n",
    "#################### RNN training\n",
    "input_dim = k_X_train.shape[1:]\n",
    "gru_units_sub = 128\n",
    "\n",
    "model = Sequential()\n",
    "\n",
    "model.add(keras.layers.Conv1D(20, 10, input_shape=input_dim, \n",
    "                             kernel_regularizer=keras.regularizers.l2(0.05)))\n",
    "model.add(keras.layers.BatchNormalization())\n",
    "model.add(keras.layers.Conv1D(20, 10, kernel_regularizer=keras.regularizers.l2(0.05)))\n",
    "model.add(keras.layers.BatchNormalization())\n",
    "model.add(keras.layers.CuDNNGRU(gru_units_sub, input_shape=input_dim,\n",
    "                recurrent_regularizer=keras.regularizers.l2(0.01), \n",
    "                kernel_regularizer=keras.regularizers.l2(0.01)))\n",
    "model.add(keras.layers.BatchNormalization())\n",
    "model.add(Dense(4, activation=\"softmax\"))\n",
    "model.compile(loss=\"categorical_crossentropy\",\n",
    "              optimizer=\"rmsprop\",\n",
    "              metrics=[\"accuracy\"])\n",
    "\n",
    "print(model.summary())\n",
    "\n",
    "history = model.fit(k_X_train, k_y_train_categ, \n",
    "                    validation_data=(k_X_val, k_y_val_categ),\n",
    "                    epochs=5, verbose=1, batch_size=256)\n",
    "\n",
    "\n",
    "\n",
    "#################### RNN loss and accuracy plotting\n",
    "# Plot training & validation accuracy values\n",
    "plt.plot(history.history['acc'])\n",
    "plt.plot(history.history['val_acc'])\n",
    "plt.title('Model accuracy')\n",
    "plt.ylabel('Accuracy')\n",
    "plt.xlabel('Epoch')\n",
    "plt.legend(['Train', 'Test'], loc='upper left')\n",
    "plt.show()\n",
    "# Plot training & validation loss values\n",
    "plt.plot(history.history['loss'])\n",
    "plt.plot(history.history['val_loss'])\n",
    "plt.title('Model loss')\n",
    "plt.ylabel('Loss')\n",
    "plt.xlabel('Epoch')\n",
    "plt.legend(['Train', 'Test'], loc='upper left')\n",
    "plt.show()"
   ]
  },
  {
   "cell_type": "code",
   "execution_count": 50,
   "metadata": {},
   "outputs": [],
   "source": [
    "model.save(\"Conv-BN-Conv-BN-GRU1-128units-reg-subsampling300-valacc53.h5\")\n",
    "\n",
    "\n",
    "#3 Dense to output\n",
    "\n",
    "\n",
    "#4 Increase crop length\n",
    "\n",
    "#5 LSTM"
   ]
  },
  {
   "cell_type": "code",
   "execution_count": null,
   "metadata": {},
   "outputs": [],
   "source": []
  }
 ],
 "metadata": {
  "kernelspec": {
   "display_name": "Python 3",
   "language": "python",
   "name": "python3"
  },
  "language_info": {
   "codemirror_mode": {
    "name": "ipython",
    "version": 3
   },
   "file_extension": ".py",
   "mimetype": "text/x-python",
   "name": "python",
   "nbconvert_exporter": "python",
   "pygments_lexer": "ipython3",
   "version": "3.6.8"
  }
 },
 "nbformat": 4,
 "nbformat_minor": 2
}
