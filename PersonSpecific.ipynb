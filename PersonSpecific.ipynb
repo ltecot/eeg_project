{
 "cells": [
  {
   "cell_type": "code",
   "execution_count": 1,
   "metadata": {},
   "outputs": [
    {
     "name": "stderr",
     "output_type": "stream",
     "text": [
      "Using TensorFlow backend.\n"
     ]
    },
    {
     "name": "stdout",
     "output_type": "stream",
     "text": [
      "Training/Valid data shape: (2115, 25, 1000)\n",
      "Test data shape: (443, 25, 1000)\n",
      "Training/Valid target shape: (2115,)\n",
      "Test target shape: (443,)\n",
      "Person train/valid shape: (2115, 1)\n",
      "Person test shape: (443, 1)\n"
     ]
    }
   ],
   "source": [
    "import numpy as np\n",
    "import matplotlib.pyplot as plt\n",
    "import numpy as np\n",
    "import tensorflow as tf\n",
    "from tensorflow.python import keras as kt\n",
    "# RNN imports\n",
    "import keras\n",
    "from keras.models import Model, Sequential\n",
    "from keras.layers import Input, LSTM, Dense, RNN, SimpleRNN, GRU\n",
    "from keras.utils import to_categorical\n",
    "\n",
    "\n",
    "%matplotlib inline\n",
    "plt.rcParams['figure.figsize'] = (10.0, 8.0) # set default size of plots\n",
    "plt.rcParams['image.interpolation'] = 'nearest'\n",
    "plt.rcParams['image.cmap'] = 'gray'\n",
    "\n",
    "X_test = np.load(\"X_test.npy\")\n",
    "y_test = np.load(\"y_test.npy\")\n",
    "person_train_valid = np.load(\"person_train_valid.npy\")\n",
    "X_train_valid = np.load(\"X_train_valid.npy\")\n",
    "y_train_valid = np.load(\"y_train_valid.npy\")\n",
    "person_test = np.load(\"person_test.npy\")\n",
    "\n",
    "print ('Training/Valid data shape: {}'.format(X_train_valid.shape))\n",
    "print ('Test data shape: {}'.format(X_test.shape))\n",
    "print ('Training/Valid target shape: {}'.format(y_train_valid.shape))\n",
    "print ('Test target shape: {}'.format(y_test.shape))\n",
    "print ('Person train/valid shape: {}'.format(person_train_valid.shape))\n",
    "print ('Person test shape: {}'.format(person_test.shape))"
   ]
  },
  {
   "cell_type": "code",
   "execution_count": 2,
   "metadata": {},
   "outputs": [
    {
     "name": "stdout",
     "output_type": "stream",
     "text": [
      "(237, 25, 1000)\n",
      "(237,)\n",
      "(50, 25, 1000)\n",
      "(50,)\n"
     ]
    }
   ],
   "source": [
    "# Separate data by subject\n",
    "\n",
    "# samples from subject 0\n",
    "idx_p0_train = np.where(person_train_valid == 0)[0]\n",
    "idx_p0_test = np.where(person_test == 0)[0]\n",
    "\n",
    "p0_train_X = X_train_valid[idx_p0_train] \n",
    "p0_train_y = y_train_valid[idx_p0_train]\n",
    "\n",
    "p0_test_X = X_test[idx_p0_test]\n",
    "p0_test_y = y_test[idx_p0_test]\n",
    "\n",
    "print(p0_train_X.shape)\n",
    "print(p0_train_y.shape)\n",
    "print(p0_test_X.shape)\n",
    "print(p0_test_y.shape)\n",
    "\n"
   ]
  },
  {
   "cell_type": "code",
   "execution_count": 3,
   "metadata": {},
   "outputs": [
    {
     "name": "stdout",
     "output_type": "stream",
     "text": [
      "Original Data: (190, 25, 1000) (190,)\n",
      "Cropped Data: (171190, 25, 100) (171190,)\n",
      "Original Data: (47, 25, 1000) (47,)\n",
      "Cropped Data: (42347, 25, 100) (42347,)\n"
     ]
    }
   ],
   "source": [
    "################################\n",
    "# Sliding window subsampling\n",
    "\n",
    "# data size (1000, 25)\n",
    "# sample size (100, 25)\n",
    "# for loop over each trial\n",
    "# for loop over each valid index\n",
    "# append the cut out section to the new dataset\n",
    "# append the cut out section's label tothe new dataset labels\n",
    "\n",
    "test_array_x = np.array([[[1,2,3,4,5,6,7,8,9,10]],\n",
    "                       [[-1,-2,-3,-4,-5,-6,-7,-8,-9,-10]],\n",
    "                       [[1,2,3,4,5,6,7,8,9,10]]])\n",
    "\n",
    "\n",
    "test_array_y = np.array([700,701,702])\n",
    "\n",
    "def crop_data_aug(X, y, crop):\n",
    "    crop_size = crop # 3 # 100\n",
    "    original_train_X = X  # test_array_x # p0_train_X\n",
    "    original_train_y = y # test_array_y # p0_train_y\n",
    "\n",
    "    N, C, T = original_train_X.shape\n",
    "    print(\"Original Data:\", original_train_X.shape, original_train_y.shape)\n",
    "    #print(\"X\", original_train_X[300:305], \"Y\", original_train_y[300:305])\n",
    "    cropped_train_X = np.zeros((N*(T-crop_size+1), C, crop_size))\n",
    "    cropped_train_y = np.zeros(N*(T-crop_size+1))\n",
    "    crops_per_sample = T-crop_size+1\n",
    "\n",
    "\n",
    "    for n in np.arange(N):\n",
    "        crop_count = 0\n",
    "        for t in np.arange(T-crop_size+1):\n",
    "            idx = n*crops_per_sample + crop_count\n",
    "            cropped_train_X[idx] = original_train_X[n, :, t:t+crop_size]\n",
    "            cropped_train_y[idx] = original_train_y[n]\n",
    "            crop_count = crop_count + 1\n",
    "            \n",
    "    print(\"Cropped Data:\", cropped_train_X.shape, cropped_train_y.shape)\n",
    "    \n",
    "    return cropped_train_X, cropped_train_y\n",
    "\n",
    "# separate the train and val test sets before actually cropping \n",
    "idx_val = np.arange(p0_train_X.shape[0])\n",
    "np.random.shuffle(idx_val)\n",
    "val_fraction = int(0.2*idx_val.shape[0])\n",
    "\n",
    "# separated train and test splits\n",
    "data_val_X = p0_train_X[0:val_fraction]\n",
    "data_val_y = p0_train_y[0:val_fraction]\n",
    "data_train_X = p0_train_X[val_fraction:]\n",
    "data_train_y = p0_train_y[val_fraction:]\n",
    "\n",
    "# augment using cropping\n",
    "cropped_train_X, cropped_train_y = crop_data_aug(data_train_X, data_train_y, 100)\n",
    "cropped_val_X, cropped_val_y = crop_data_aug(data_val_X, data_val_y, 100)\n"
   ]
  },
  {
   "cell_type": "code",
   "execution_count": 5,
   "metadata": {},
   "outputs": [
    {
     "name": "stdout",
     "output_type": "stream",
     "text": [
      "Swapped axes: (171190, 100, 25) (50, 1000, 25)\n",
      "Removed VOG channels: (171190, 100, 22) (50, 1000, 22)\n",
      "Raw labels: [771. 771. 771. 771. 771. 771. 771. 771. 771. 771.]\n",
      "Fixed: [2. 2. 2. 2. 2. 2. 2. 2. 2. 2.]\n",
      "Categorical one-hot encoding:\n",
      " [[0. 0. 1. 0.]\n",
      " [0. 0. 1. 0.]\n",
      " [0. 0. 1. 0.]]\n"
     ]
    }
   ],
   "source": [
    "################################\n",
    "# rearrange data for Keras modules\n",
    "\n",
    "##!!!!!! Now train and test data dimensions do not match\n",
    "\n",
    "# fomat data to (batch_size, timesteps, input_dim)\n",
    "k_X_train = np.swapaxes(cropped_train_X, 1, 2)\n",
    "k_X_val = np.swapaxes(cropped_val_X, 1, 2)\n",
    "k_X_test = np.swapaxes(p0_test_X, 1, 2)\n",
    "print(\"Swapped axes:\",k_X_train.shape, k_X_test.shape)\n",
    "# remove VOG channels (23-25)\n",
    "k_X_train = k_X_train[: , : , :22 ]\n",
    "k_X_val = k_X_val[:, :, :22]\n",
    "k_X_test = k_X_test[: , : , :22 ]\n",
    "print(\"Removed VOG channels:\", k_X_train.shape, k_X_test.shape)\n",
    "\n",
    "# encode output labels\n",
    "print(\"Raw labels:\", cropped_train_y[0:10])\n",
    "k_y_train = cropped_train_y - 769\n",
    "k_y_val = cropped_val_y - 769\n",
    "k_y_test = p0_test_y - 769\n",
    "print(\"Fixed:\", k_y_train[0:10])\n",
    "k_y_train_categ = to_categorical(k_y_train, 4)\n",
    "k_y_val_categ = to_categorical(k_y_val, 4)\n",
    "k_y_test_categ = to_categorical(k_y_test, 4)\n",
    "print(\"Categorical one-hot encoding:\\n\",k_y_train_categ[0:3])"
   ]
  },
  {
   "cell_type": "code",
   "execution_count": 6,
   "metadata": {
    "scrolled": false
   },
   "outputs": [
    {
     "name": "stdout",
     "output_type": "stream",
     "text": [
      "WARNING:tensorflow:From /home/tudor/Dropbox/UCLA/Winter19/ECE239AS/HW/Project/code/project/.env/lib/python3.6/site-packages/tensorflow/python/framework/op_def_library.py:263: colocate_with (from tensorflow.python.framework.ops) is deprecated and will be removed in a future version.\n",
      "Instructions for updating:\n",
      "Colocations handled automatically by placer.\n",
      "WARNING:tensorflow:From /home/tudor/Dropbox/UCLA/Winter19/ECE239AS/HW/Project/code/project/.env/lib/python3.6/site-packages/keras/backend/tensorflow_backend.py:3445: calling dropout (from tensorflow.python.ops.nn_ops) with keep_prob is deprecated and will be removed in a future version.\n",
      "Instructions for updating:\n",
      "Please use `rate` instead of `keep_prob`. Rate should be set to `rate = 1 - keep_prob`.\n",
      "_________________________________________________________________\n",
      "Layer (type)                 Output Shape              Param #   \n",
      "=================================================================\n",
      "gru_1 (GRU)                  (None, 128)               57984     \n",
      "_________________________________________________________________\n",
      "dense_1 (Dense)              (None, 4)                 516       \n",
      "=================================================================\n",
      "Total params: 58,500\n",
      "Trainable params: 58,500\n",
      "Non-trainable params: 0\n",
      "_________________________________________________________________\n",
      "None\n",
      "WARNING:tensorflow:From /home/tudor/Dropbox/UCLA/Winter19/ECE239AS/HW/Project/code/project/.env/lib/python3.6/site-packages/tensorflow/python/ops/math_ops.py:3066: to_int32 (from tensorflow.python.ops.math_ops) is deprecated and will be removed in a future version.\n",
      "Instructions for updating:\n",
      "Use tf.cast instead.\n",
      "Train on 171190 samples, validate on 42347 samples\n",
      "Epoch 1/1\n",
      "171190/171190 [==============================] - 357s 2ms/step - loss: 0.9854 - acc: 0.5601 - val_loss: 1.3767 - val_acc: 0.4323\n"
     ]
    },
    {
     "data": {
      "image/png": "[encoded data removed]",
      "text/plain": [
       "<Figure size 432x288 with 1 Axes>"
      ]
     },
     "metadata": {
      "needs_background": "light"
     },
     "output_type": "display_data"
    },
    {
     "data": {
      "image/png": "[encoded data removed]",
      "text/plain": [
       "<Figure size 432x288 with 1 Axes>"
      ]
     },
     "metadata": {
      "needs_background": "light"
     },
     "output_type": "display_data"
    }
   ],
   "source": [
    "#################### RNN paramters\n",
    "hids = 100\n",
    "actv = 'tanh'\n",
    "dcy = 0.005\n",
    "reg = 0.1\n",
    "lrt = 0.00005\n",
    "\n",
    "\n",
    "#################### RNN training\n",
    "input_dim = k_X_train.shape[1:]\n",
    "gru_units_sub = 128\n",
    "\n",
    "model = Sequential()\n",
    "#model.add(keras.layers.Conv1D(22, 10, ))\n",
    "#model.add(keras.layers.BatchNormalization())\n",
    "model.add(GRU(gru_units_sub, recurrent_dropout=.4, input_shape=input_dim))\n",
    "model.add(Dense(4, activation=\"softmax\"))\n",
    "model.compile(loss=\"categorical_crossentropy\",\n",
    "              optimizer=\"rmsprop\",\n",
    "              metrics=[\"accuracy\"])\n",
    "\n",
    "print(model.summary())\n",
    "\n",
    "history = model.fit(k_X_train, k_y_train_categ, \n",
    "                    validation_data=(k_X_val, k_y_val_categ),\n",
    "                    epochs=1, verbose=1, batch_size=32)\n",
    "\n",
    "\n",
    "\n",
    "#################### RNN loss and accuracy plotting\n",
    "# Plot training & validation accuracy values\n",
    "plt.plot(history.history['acc'])\n",
    "plt.plot(history.history['val_acc'])\n",
    "plt.title('Model accuracy')\n",
    "plt.ylabel('Accuracy')\n",
    "plt.xlabel('Epoch')\n",
    "plt.legend(['Train', 'Test'], loc='upper left')\n",
    "plt.show()\n",
    "# Plot training & validation loss values\n",
    "plt.plot(history.history['loss'])\n",
    "plt.plot(history.history['val_loss'])\n",
    "plt.title('Model loss')\n",
    "plt.ylabel('Loss')\n",
    "plt.xlabel('Epoch')\n",
    "plt.legend(['Train', 'Test'], loc='upper left')\n",
    "plt.show()"
   ]
  },
  {
   "cell_type": "code",
   "execution_count": null,
   "metadata": {},
   "outputs": [],
   "source": []
  }
 ],
 "metadata": {
  "kernelspec": {
   "display_name": "Python 3",
   "language": "python",
   "name": "python3"
  },
  "language_info": {
   "codemirror_mode": {
    "name": "ipython",
    "version": 3
   },
   "file_extension": ".py",
   "mimetype": "text/x-python",
   "name": "python",
   "nbconvert_exporter": "python",
   "pygments_lexer": "ipython3",
   "version": "3.6.7"
  }
 },
 "nbformat": 4,
 "nbformat_minor": 2
}
