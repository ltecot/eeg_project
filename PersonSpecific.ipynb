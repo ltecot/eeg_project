{
 "cells": [
  {
   "cell_type": "code",
   "execution_count": 1,
   "metadata": {},
   "outputs": [
    {
     "name": "stderr",
     "output_type": "stream",
     "text": [
      "Using TensorFlow backend.\n"
     ]
    },
    {
     "name": "stdout",
     "output_type": "stream",
     "text": [
      "Training/Valid data shape: (2115, 25, 1000)\n",
      "Test data shape: (443, 25, 1000)\n",
      "Training/Valid target shape: (2115,)\n",
      "Test target shape: (443,)\n",
      "Person train/valid shape: (2115, 1)\n",
      "Person test shape: (443, 1)\n"
     ]
    }
   ],
   "source": [
    "import numpy as np\n",
    "import matplotlib.pyplot as plt\n",
    "import numpy as np\n",
    "import tensorflow as tf\n",
    "from tensorflow.python import keras as kt\n",
    "# RNN imports\n",
    "import keras\n",
    "from keras.models import Model, Sequential\n",
    "from keras.layers import Input, LSTM, Dense, RNN, SimpleRNN, GRU\n",
    "from keras.utils import to_categorical\n",
    "\n",
    "\n",
    "%matplotlib inline\n",
    "plt.rcParams['figure.figsize'] = (10.0, 8.0) # set default size of plots\n",
    "plt.rcParams['image.interpolation'] = 'nearest'\n",
    "plt.rcParams['image.cmap'] = 'gray'\n",
    "\n",
    "X_test = np.load(\"X_test.npy\")\n",
    "y_test = np.load(\"y_test.npy\")\n",
    "person_train_valid = np.load(\"person_train_valid.npy\")\n",
    "X_train_valid = np.load(\"X_train_valid.npy\")\n",
    "y_train_valid = np.load(\"y_train_valid.npy\")\n",
    "person_test = np.load(\"person_test.npy\")\n",
    "\n",
    "print ('Training/Valid data shape: {}'.format(X_train_valid.shape))\n",
    "print ('Test data shape: {}'.format(X_test.shape))\n",
    "print ('Training/Valid target shape: {}'.format(y_train_valid.shape))\n",
    "print ('Test target shape: {}'.format(y_test.shape))\n",
    "print ('Person train/valid shape: {}'.format(person_train_valid.shape))\n",
    "print ('Person test shape: {}'.format(person_test.shape))"
   ]
  },
  {
   "cell_type": "code",
   "execution_count": 6,
   "metadata": {},
   "outputs": [
    {
     "name": "stdout",
     "output_type": "stream",
     "text": [
      "(237, 25, 1000)\n",
      "(237,)\n",
      "(50, 25, 1000)\n",
      "(50,)\n",
      "Swapped axes: (237, 1000, 25) (50, 1000, 25)\n",
      "Removed VOG channels: (237, 1000, 22) (50, 1000, 22)\n",
      "Raw labels: [771 772 769 769 769 769 771 770 772 772]\n",
      "Fixed: [2 3 0 0 0 0 2 1 3 3]\n",
      "Categorical one-hot encoding:\n",
      " [[0. 0. 1. 0.]\n",
      " [0. 0. 0. 1.]\n",
      " [1. 0. 0. 0.]]\n"
     ]
    }
   ],
   "source": [
    "# Separate data by subject\n",
    "\n",
    "# samples from subject 0\n",
    "idx_p0_train = np.where(person_train_valid == 0)[0]\n",
    "idx_p0_test = np.where(person_test == 0)[0]\n",
    "\n",
    "p0_train_X = X_train_valid[idx_p0_train] \n",
    "p0_train_y = y_train_valid[idx_p0_train]\n",
    "\n",
    "p0_test_X = X_test[idx_p0_test]\n",
    "p0_test_y = y_test[idx_p0_test]\n",
    "\n",
    "print(p0_train_X.shape)\n",
    "print(p0_train_y.shape)\n",
    "print(p0_test_X.shape)\n",
    "print(p0_test_y.shape)\n",
    "\n"
   ]
  },
  {
   "cell_type": "code",
   "execution_count": null,
   "metadata": {},
   "outputs": [],
   "source": [
    "################################\n",
    "# Sliding window subsampling\n",
    "\n",
    "# data size (1000, 22)\n",
    "# data "
   ]
  },
  {
   "cell_type": "code",
   "execution_count": null,
   "metadata": {},
   "outputs": [],
   "source": [
    "################################\n",
    "# rearrange data for Keras modules\n",
    "\n",
    "# fomat data to (batch_size, timesteps, input_dim)\n",
    "k_X_train = np.swapaxes(p0_train_X, 1, 2)\n",
    "k_X_test = np.swapaxes(p0_test_X, 1, 2)\n",
    "print(\"Swapped axes:\",k_X_train.shape, k_X_test.shape)\n",
    "# remove VOG channels (23-25)\n",
    "k_X_train = k_X_train[: , : , :22 ]\n",
    "k_X_test = k_X_test[: , : , :22 ]\n",
    "print(\"Removed VOG channels:\", k_X_train.shape, k_X_test.shape)\n",
    "\n",
    "# encode output labels\n",
    "print(\"Raw labels:\", p0_train_y[0:10])\n",
    "k_y_train = p0_train_y - 769\n",
    "k_y_test = p0_test_y - 769\n",
    "print(\"Fixed:\", k_y_train[0:10])\n",
    "k_y_train_categ = to_categorical(k_y_train, 4)\n",
    "k_y_test_categ = to_categorical(k_y_test, 4)\n",
    "print(\"Categorical one-hot encoding:\\n\",k_y_train_categ[0:3])"
   ]
  },
  {
   "cell_type": "code",
   "execution_count": 8,
   "metadata": {
    "scrolled": false
   },
   "outputs": [
    {
     "name": "stdout",
     "output_type": "stream",
     "text": [
      "_________________________________________________________________\n",
      "Layer (type)                 Output Shape              Param #   \n",
      "=================================================================\n",
      "conv1d_3 (Conv1D)            (None, 991, 22)           4862      \n",
      "_________________________________________________________________\n",
      "batch_normalization_3 (Batch (None, 991, 22)           88        \n",
      "_________________________________________________________________\n",
      "gru_3 (GRU)                  (None, 128)               57984     \n",
      "_________________________________________________________________\n",
      "dense_3 (Dense)              (None, 4)                 516       \n",
      "=================================================================\n",
      "Total params: 63,450\n",
      "Trainable params: 63,406\n",
      "Non-trainable params: 44\n",
      "_________________________________________________________________\n",
      "None\n",
      "Train on 189 samples, validate on 48 samples\n",
      "Epoch 1/25\n",
      "189/189 [==============================] - 5s 25ms/step - loss: 1.4546 - acc: 0.2328 - val_loss: 1.4450 - val_acc: 0.2708\n",
      "Epoch 2/25\n",
      "189/189 [==============================] - 3s 18ms/step - loss: 1.3722 - acc: 0.2963 - val_loss: 1.4041 - val_acc: 0.2917\n",
      "Epoch 3/25\n",
      "189/189 [==============================] - 4s 19ms/step - loss: 1.3152 - acc: 0.3598 - val_loss: 1.4559 - val_acc: 0.2292\n",
      "Epoch 4/25\n",
      "189/189 [==============================] - 4s 19ms/step - loss: 1.3243 - acc: 0.4233 - val_loss: 1.3934 - val_acc: 0.2292\n",
      "Epoch 5/25\n",
      "189/189 [==============================] - 3s 17ms/step - loss: 1.3214 - acc: 0.3704 - val_loss: 1.3987 - val_acc: 0.2708\n",
      "Epoch 6/25\n",
      "189/189 [==============================] - 3s 17ms/step - loss: 1.2867 - acc: 0.3810 - val_loss: 1.4631 - val_acc: 0.2917\n",
      "Epoch 7/25\n",
      "189/189 [==============================] - 3s 17ms/step - loss: 1.2766 - acc: 0.4286 - val_loss: 1.4327 - val_acc: 0.2083\n",
      "Epoch 8/25\n",
      "189/189 [==============================] - 3s 17ms/step - loss: 1.2484 - acc: 0.4392 - val_loss: 1.4236 - val_acc: 0.2500\n",
      "Epoch 9/25\n",
      "189/189 [==============================] - 3s 18ms/step - loss: 1.2275 - acc: 0.4339 - val_loss: 1.4164 - val_acc: 0.2500\n",
      "Epoch 10/25\n",
      "189/189 [==============================] - 3s 18ms/step - loss: 1.2204 - acc: 0.4286 - val_loss: 1.4427 - val_acc: 0.1667\n",
      "Epoch 11/25\n",
      "189/189 [==============================] - 3s 18ms/step - loss: 1.2062 - acc: 0.4497 - val_loss: 1.4234 - val_acc: 0.1458\n",
      "Epoch 12/25\n",
      "189/189 [==============================] - 3s 18ms/step - loss: 1.1578 - acc: 0.5238 - val_loss: 1.4021 - val_acc: 0.2708\n",
      "Epoch 13/25\n",
      "189/189 [==============================] - 3s 18ms/step - loss: 1.1385 - acc: 0.5079 - val_loss: 1.4581 - val_acc: 0.2292\n",
      "Epoch 14/25\n",
      "189/189 [==============================] - 3s 18ms/step - loss: 1.1310 - acc: 0.5503 - val_loss: 1.4627 - val_acc: 0.3125\n",
      "Epoch 15/25\n",
      "189/189 [==============================] - 3s 18ms/step - loss: 1.0936 - acc: 0.5238 - val_loss: 1.4254 - val_acc: 0.2708\n",
      "Epoch 16/25\n",
      "189/189 [==============================] - 4s 20ms/step - loss: 1.0773 - acc: 0.5873 - val_loss: 1.4352 - val_acc: 0.2083\n",
      "Epoch 17/25\n",
      "189/189 [==============================] - 4s 22ms/step - loss: 1.0568 - acc: 0.5820 - val_loss: 1.4700 - val_acc: 0.1667\n",
      "Epoch 18/25\n",
      "189/189 [==============================] - 4s 23ms/step - loss: 1.0448 - acc: 0.5820 - val_loss: 1.4825 - val_acc: 0.1667\n",
      "Epoch 19/25\n",
      "189/189 [==============================] - 4s 20ms/step - loss: 1.0281 - acc: 0.5820 - val_loss: 1.5768 - val_acc: 0.2708\n",
      "Epoch 20/25\n",
      "189/189 [==============================] - 4s 21ms/step - loss: 1.0172 - acc: 0.6243 - val_loss: 1.5013 - val_acc: 0.2292\n",
      "Epoch 21/25\n",
      "189/189 [==============================] - 5s 24ms/step - loss: 0.9639 - acc: 0.6032 - val_loss: 1.4909 - val_acc: 0.2500\n",
      "Epoch 22/25\n",
      "189/189 [==============================] - 4s 21ms/step - loss: 0.9671 - acc: 0.6190 - val_loss: 1.4788 - val_acc: 0.2917\n",
      "Epoch 23/25\n",
      "189/189 [==============================] - 5s 27ms/step - loss: 0.9137 - acc: 0.6349 - val_loss: 1.5349 - val_acc: 0.3125\n",
      "Epoch 24/25\n",
      "189/189 [==============================] - 4s 21ms/step - loss: 0.8978 - acc: 0.6402 - val_loss: 1.5112 - val_acc: 0.2083\n",
      "Epoch 25/25\n",
      "189/189 [==============================] - 4s 22ms/step - loss: 0.8552 - acc: 0.6825 - val_loss: 1.5204 - val_acc: 0.2292\n"
     ]
    },
    {
     "data": {
      "image/png": "[encoded data removed]",
      "text/plain": [
       "<Figure size 432x288 with 1 Axes>"
      ]
     },
     "metadata": {
      "needs_background": "light"
     },
     "output_type": "display_data"
    },
    {
     "data": {
      "image/png": "[encoded data removed]",
      "text/plain": [
       "<Figure size 432x288 with 1 Axes>"
      ]
     },
     "metadata": {
      "needs_background": "light"
     },
     "output_type": "display_data"
    }
   ],
   "source": [
    "#################### RNN paramters\n",
    "hids = 100\n",
    "actv = 'tanh'\n",
    "dcy = 0.005\n",
    "reg = 0.1\n",
    "lrt = 0.00005\n",
    "\n",
    "\n",
    "#################### RNN training\n",
    "input_dim = k_X_train.shape[1:]\n",
    "gru_units_sub = 128\n",
    "\n",
    "model = Sequential()\n",
    "#model.add(keras.layers.Conv1D(22, 10, ))\n",
    "#model.add(keras.layers.BatchNormalization())\n",
    "model.add(GRU(gru_units_sub, recurrent_dropout=.4, input_shape=input_dim))\n",
    "model.add(Dense(4, activation=\"softmax\"))\n",
    "model.compile(loss=\"categorical_crossentropy\",\n",
    "              optimizer=\"rmsprop\",\n",
    "              metrics=[\"accuracy\"])\n",
    "\n",
    "print(model.summary())\n",
    "\n",
    "history = model.fit(k_X_train, k_y_train_categ, epochs=25, verbose=1, validation_split=0.2, batch_size=32)\n",
    "\n",
    "\n",
    "\n",
    "#################### RNN loss and accuracy plotting\n",
    "# Plot training & validation accuracy values\n",
    "plt.plot(history.history['acc'])\n",
    "plt.plot(history.history['val_acc'])\n",
    "plt.title('Model accuracy')\n",
    "plt.ylabel('Accuracy')\n",
    "plt.xlabel('Epoch')\n",
    "plt.legend(['Train', 'Test'], loc='upper left')\n",
    "plt.show()\n",
    "# Plot training & validation loss values\n",
    "plt.plot(history.history['loss'])\n",
    "plt.plot(history.history['val_loss'])\n",
    "plt.title('Model loss')\n",
    "plt.ylabel('Loss')\n",
    "plt.xlabel('Epoch')\n",
    "plt.legend(['Train', 'Test'], loc='upper left')\n",
    "plt.show()"
   ]
  },
  {
   "cell_type": "code",
   "execution_count": null,
   "metadata": {},
   "outputs": [],
   "source": []
  }
 ],
 "metadata": {
  "kernelspec": {
   "display_name": "Python 3",
   "language": "python",
   "name": "python3"
  },
  "language_info": {
   "codemirror_mode": {
    "name": "ipython",
    "version": 3
   },
   "file_extension": ".py",
   "mimetype": "text/x-python",
   "name": "python",
   "nbconvert_exporter": "python",
   "pygments_lexer": "ipython3",
   "version": "3.6.7"
  }
 },
 "nbformat": 4,
 "nbformat_minor": 2
}
